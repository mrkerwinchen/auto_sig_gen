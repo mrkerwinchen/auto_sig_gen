{
 "cells": [
  {
   "cell_type": "code",
   "execution_count": 1,
   "id": "0b779492",
   "metadata": {},
   "outputs": [],
   "source": [
    "import pandas as pd\n",
    "import numpy as np\n",
    "from collections import Counter\n",
    "from matplotlib import pyplot as plt"
   ]
  },
  {
   "cell_type": "code",
   "execution_count": 2,
   "id": "fde97bf7",
   "metadata": {},
   "outputs": [],
   "source": [
    "species=\"mouse\"\n",
    "gsm4sig_version = 1"
   ]
  },
  {
   "cell_type": "code",
   "execution_count": 3,
   "id": "84dba8ba",
   "metadata": {},
   "outputs": [],
   "source": [
    "bulk_study_meta = pd.read_csv(species+\"_bulk_study_meta.csv\", index_col=0)\n",
    "frequent_terms = pd.read_csv(\"human_frequent_terms.csv\")"
   ]
  },
  {
   "cell_type": "code",
   "execution_count": 6,
   "id": "2e5b5164",
   "metadata": {},
   "outputs": [
    {
     "data": {
      "text/html": [
       "<div>\n",
       "<style scoped>\n",
       "    .dataframe tbody tr th:only-of-type {\n",
       "        vertical-align: middle;\n",
       "    }\n",
       "\n",
       "    .dataframe tbody tr th {\n",
       "        vertical-align: top;\n",
       "    }\n",
       "\n",
       "    .dataframe thead th {\n",
       "        text-align: right;\n",
       "    }\n",
       "</style>\n",
       "<table border=\"1\" class=\"dataframe\">\n",
       "  <thead>\n",
       "    <tr style=\"text-align: right;\">\n",
       "      <th></th>\n",
       "      <th>Label</th>\n",
       "      <th>Frequency</th>\n",
       "      <th>Category</th>\n",
       "    </tr>\n",
       "  </thead>\n",
       "  <tbody>\n",
       "    <tr>\n",
       "      <th>0</th>\n",
       "      <td>rep</td>\n",
       "      <td>23641</td>\n",
       "      <td>0</td>\n",
       "    </tr>\n",
       "    <tr>\n",
       "      <th>1</th>\n",
       "      <td>rna</td>\n",
       "      <td>16840</td>\n",
       "      <td>0</td>\n",
       "    </tr>\n",
       "    <tr>\n",
       "      <th>2</th>\n",
       "      <td>seq</td>\n",
       "      <td>13681</td>\n",
       "      <td>0</td>\n",
       "    </tr>\n",
       "    <tr>\n",
       "      <th>3</th>\n",
       "      <td>replicate</td>\n",
       "      <td>6047</td>\n",
       "      <td>0</td>\n",
       "    </tr>\n",
       "    <tr>\n",
       "      <th>4</th>\n",
       "      <td>control</td>\n",
       "      <td>6023</td>\n",
       "      <td>1</td>\n",
       "    </tr>\n",
       "    <tr>\n",
       "      <th>...</th>\n",
       "      <td>...</td>\n",
       "      <td>...</td>\n",
       "      <td>...</td>\n",
       "    </tr>\n",
       "    <tr>\n",
       "      <th>500</th>\n",
       "      <td>cutll</td>\n",
       "      <td>132</td>\n",
       "      <td>0</td>\n",
       "    </tr>\n",
       "    <tr>\n",
       "      <th>501</th>\n",
       "      <td>tp</td>\n",
       "      <td>132</td>\n",
       "      <td>0</td>\n",
       "    </tr>\n",
       "    <tr>\n",
       "      <th>502</th>\n",
       "      <td>wildtype</td>\n",
       "      <td>132</td>\n",
       "      <td>1</td>\n",
       "    </tr>\n",
       "    <tr>\n",
       "      <th>503</th>\n",
       "      <td>peripheral</td>\n",
       "      <td>132</td>\n",
       "      <td>0</td>\n",
       "    </tr>\n",
       "    <tr>\n",
       "      <th>504</th>\n",
       "      <td>null</td>\n",
       "      <td>132</td>\n",
       "      <td>1</td>\n",
       "    </tr>\n",
       "  </tbody>\n",
       "</table>\n",
       "<p>505 rows × 3 columns</p>\n",
       "</div>"
      ],
      "text/plain": [
       "          Label  Frequency  Category\n",
       "0           rep      23641         0\n",
       "1           rna      16840         0\n",
       "2           seq      13681         0\n",
       "3     replicate       6047         0\n",
       "4       control       6023         1\n",
       "..          ...        ...       ...\n",
       "500       cutll        132         0\n",
       "501          tp        132         0\n",
       "502    wildtype        132         1\n",
       "503  peripheral        132         0\n",
       "504        null        132         1\n",
       "\n",
       "[505 rows x 3 columns]"
      ]
     },
     "execution_count": 6,
     "metadata": {},
     "output_type": "execute_result"
    }
   ],
   "source": [
    "frequent_terms"
   ]
  },
  {
   "cell_type": "code",
   "execution_count": 5,
   "id": "8115e01f",
   "metadata": {},
   "outputs": [],
   "source": [
    "frequent_terms.at[504, \"Label\"] = \"null\""
   ]
  },
  {
   "cell_type": "code",
   "execution_count": 7,
   "id": "bb8cb585",
   "metadata": {},
   "outputs": [],
   "source": [
    "bulk_study_meta[\"sample_title_set\"] = (bulk_study_meta[\"sample_title\"]\n",
    "                                       .str.lower().str.findall(r\"[a-z]+\")\n",
    "                                       .apply(frozenset))\n",
    "\n",
    "ctrl_set = set(frequent_terms.loc[frequent_terms[\"Category\"] == 1][\"Label\"])\n",
    "pert_set = set(frequent_terms.loc[frequent_terms[\"Category\"] == 2][\"Label\"])"
   ]
  },
  {
   "cell_type": "code",
   "execution_count": 8,
   "id": "5e151f6f",
   "metadata": {},
   "outputs": [
    {
     "data": {
      "text/html": [
       "<div>\n",
       "<style scoped>\n",
       "    .dataframe tbody tr th:only-of-type {\n",
       "        vertical-align: middle;\n",
       "    }\n",
       "\n",
       "    .dataframe tbody tr th {\n",
       "        vertical-align: top;\n",
       "    }\n",
       "\n",
       "    .dataframe thead th {\n",
       "        text-align: right;\n",
       "    }\n",
       "</style>\n",
       "<table border=\"1\" class=\"dataframe\">\n",
       "  <thead>\n",
       "    <tr style=\"text-align: right;\">\n",
       "      <th></th>\n",
       "      <th>series_id</th>\n",
       "      <th>geo_accession</th>\n",
       "      <th>singlecellprobability</th>\n",
       "      <th>sample_title</th>\n",
       "      <th>h5_idx</th>\n",
       "      <th>sample_title_set</th>\n",
       "    </tr>\n",
       "  </thead>\n",
       "  <tbody>\n",
       "    <tr>\n",
       "      <th>0</th>\n",
       "      <td>GSE54390</td>\n",
       "      <td>GSM1314260</td>\n",
       "      <td>0.185995</td>\n",
       "      <td>TRACK 43-75 kidney 1</td>\n",
       "      <td>0</td>\n",
       "      <td>(kidney, track)</td>\n",
       "    </tr>\n",
       "    <tr>\n",
       "      <th>1</th>\n",
       "      <td>GSE64027</td>\n",
       "      <td>GSM1563082</td>\n",
       "      <td>0.186791</td>\n",
       "      <td>20NNK_LPS_Sil_I3C9</td>\n",
       "      <td>3</td>\n",
       "      <td>(c, sil, i, nnk, lps)</td>\n",
       "    </tr>\n",
       "    <tr>\n",
       "      <th>2</th>\n",
       "      <td>GSE36025\\tGSE49417\\tGSE49847</td>\n",
       "      <td>GSM1000563</td>\n",
       "      <td>0.163561</td>\n",
       "      <td>CSHL_RnaSeq_Cortex_adult-8wks (superseded by G...</td>\n",
       "      <td>4</td>\n",
       "      <td>(gse, wks, rnaseq, cortex, cshl, superseded, a...</td>\n",
       "    </tr>\n",
       "    <tr>\n",
       "      <th>3</th>\n",
       "      <td>GSE44157\\tGSE44163</td>\n",
       "      <td>GSM1079794</td>\n",
       "      <td>0.143830</td>\n",
       "      <td>KO_siNr6a1_R0</td>\n",
       "      <td>13</td>\n",
       "      <td>(r, sinr, a, ko)</td>\n",
       "    </tr>\n",
       "    <tr>\n",
       "      <th>4</th>\n",
       "      <td>GSE49906</td>\n",
       "      <td>GSM1223636</td>\n",
       "      <td>0.133423</td>\n",
       "      <td>RNA-seq ventricle PN28</td>\n",
       "      <td>14</td>\n",
       "      <td>(pn, seq, ventricle, rna)</td>\n",
       "    </tr>\n",
       "    <tr>\n",
       "      <th>...</th>\n",
       "      <td>...</td>\n",
       "      <td>...</td>\n",
       "      <td>...</td>\n",
       "      <td>...</td>\n",
       "      <td>...</td>\n",
       "      <td>...</td>\n",
       "    </tr>\n",
       "    <tr>\n",
       "      <th>130007</th>\n",
       "      <td>GSE165318</td>\n",
       "      <td>GSM5031527</td>\n",
       "      <td>0.212547</td>\n",
       "      <td>S15</td>\n",
       "      <td>405635</td>\n",
       "      <td>(s)</td>\n",
       "    </tr>\n",
       "    <tr>\n",
       "      <th>130008</th>\n",
       "      <td>GSE165318</td>\n",
       "      <td>GSM5031528</td>\n",
       "      <td>0.182000</td>\n",
       "      <td>S17</td>\n",
       "      <td>405636</td>\n",
       "      <td>(s)</td>\n",
       "    </tr>\n",
       "    <tr>\n",
       "      <th>130009</th>\n",
       "      <td>GSE165318</td>\n",
       "      <td>GSM5031529</td>\n",
       "      <td>0.239316</td>\n",
       "      <td>S37</td>\n",
       "      <td>405637</td>\n",
       "      <td>(s)</td>\n",
       "    </tr>\n",
       "    <tr>\n",
       "      <th>130010</th>\n",
       "      <td>GSE165318</td>\n",
       "      <td>GSM5031530</td>\n",
       "      <td>0.256362</td>\n",
       "      <td>S38</td>\n",
       "      <td>405638</td>\n",
       "      <td>(s)</td>\n",
       "    </tr>\n",
       "    <tr>\n",
       "      <th>130011</th>\n",
       "      <td>GSE165318</td>\n",
       "      <td>GSM5031531</td>\n",
       "      <td>0.312494</td>\n",
       "      <td>S40</td>\n",
       "      <td>405639</td>\n",
       "      <td>(s)</td>\n",
       "    </tr>\n",
       "  </tbody>\n",
       "</table>\n",
       "<p>130012 rows × 6 columns</p>\n",
       "</div>"
      ],
      "text/plain": [
       "                           series_id geo_accession  singlecellprobability  \\\n",
       "0                           GSE54390    GSM1314260               0.185995   \n",
       "1                           GSE64027    GSM1563082               0.186791   \n",
       "2       GSE36025\\tGSE49417\\tGSE49847    GSM1000563               0.163561   \n",
       "3                 GSE44157\\tGSE44163    GSM1079794               0.143830   \n",
       "4                           GSE49906    GSM1223636               0.133423   \n",
       "...                              ...           ...                    ...   \n",
       "130007                     GSE165318    GSM5031527               0.212547   \n",
       "130008                     GSE165318    GSM5031528               0.182000   \n",
       "130009                     GSE165318    GSM5031529               0.239316   \n",
       "130010                     GSE165318    GSM5031530               0.256362   \n",
       "130011                     GSE165318    GSM5031531               0.312494   \n",
       "\n",
       "                                             sample_title  h5_idx  \\\n",
       "0                                    TRACK 43-75 kidney 1       0   \n",
       "1                                      20NNK_LPS_Sil_I3C9       3   \n",
       "2       CSHL_RnaSeq_Cortex_adult-8wks (superseded by G...       4   \n",
       "3                                           KO_siNr6a1_R0      13   \n",
       "4                                  RNA-seq ventricle PN28      14   \n",
       "...                                                   ...     ...   \n",
       "130007                                                S15  405635   \n",
       "130008                                                S17  405636   \n",
       "130009                                                S37  405637   \n",
       "130010                                                S38  405638   \n",
       "130011                                                S40  405639   \n",
       "\n",
       "                                         sample_title_set  \n",
       "0                                         (kidney, track)  \n",
       "1                                   (c, sil, i, nnk, lps)  \n",
       "2       (gse, wks, rnaseq, cortex, cshl, superseded, a...  \n",
       "3                                        (r, sinr, a, ko)  \n",
       "4                               (pn, seq, ventricle, rna)  \n",
       "...                                                   ...  \n",
       "130007                                                (s)  \n",
       "130008                                                (s)  \n",
       "130009                                                (s)  \n",
       "130010                                                (s)  \n",
       "130011                                                (s)  \n",
       "\n",
       "[130012 rows x 6 columns]"
      ]
     },
     "execution_count": 8,
     "metadata": {},
     "output_type": "execute_result"
    }
   ],
   "source": [
    "bulk_study_meta"
   ]
  },
  {
   "cell_type": "code",
   "execution_count": 9,
   "id": "8c71ee2f",
   "metadata": {},
   "outputs": [],
   "source": [
    "def categorize_cp(test_set, ctrl_set = ctrl_set, pert_set = pert_set): # categorizes sample as ctrl or pert\n",
    "    difference = len(test_set & ctrl_set) - len(test_set & pert_set)   # 0 - undetermined\n",
    "    if difference == 0: return 0                                       # 1 - control group\n",
    "    return 1 if difference > 0 else 2                                  # 2 - perturbation group"
   ]
  },
  {
   "cell_type": "code",
   "execution_count": 10,
   "id": "9056617c",
   "metadata": {},
   "outputs": [],
   "source": [
    "bulk_study_meta[\"cp_group\"] = bulk_study_meta[\"sample_title_set\"].apply(categorize_cp)"
   ]
  },
  {
   "cell_type": "code",
   "execution_count": 11,
   "id": "7fdf26de",
   "metadata": {},
   "outputs": [
    {
     "data": {
      "text/plain": [
       "8971"
      ]
     },
     "execution_count": 11,
     "metadata": {},
     "output_type": "execute_result"
    }
   ],
   "source": [
    "len(bulk_study_meta[\"series_id\"].unique())"
   ]
  },
  {
   "cell_type": "code",
   "execution_count": 12,
   "id": "69c73dd1",
   "metadata": {},
   "outputs": [],
   "source": [
    "no_undet = []\n",
    "for gse in bulk_study_meta.groupby(\"series_id\")[\"sample_title_set\"]:                  \n",
    "    if (#0 not in np.array(gse[1])  and                                               \n",
    "        #len(gse[1].value_counts()) <= 2 and              \n",
    "        (gse[1].value_counts() >= 2).all()): no_undet.append(gse[0])\n",
    "        \n",
    "no_undet_study = bulk_study_meta[bulk_study_meta[\"series_id\"].isin(no_undet)].copy()"
   ]
  },
  {
   "cell_type": "code",
   "execution_count": 13,
   "id": "00bc48e5",
   "metadata": {},
   "outputs": [
    {
     "data": {
      "text/plain": [
       "6832"
      ]
     },
     "execution_count": 13,
     "metadata": {},
     "output_type": "execute_result"
    }
   ],
   "source": [
    "len(no_undet)"
   ]
  },
  {
   "cell_type": "code",
   "execution_count": null,
   "id": "d68085c9",
   "metadata": {},
   "outputs": [],
   "source": [
    "#gse_per_term = []                                                                              # counts unique gse for each \n",
    "#def det_gse(test_set, term): return 1 if len(test_set & {term}) > 0 else 0                     # control or perturbation term\n",
    "#for i in frequent_terms[\"Label\"]:\n",
    "#    bulk_study_meta[\"det_gse\"] = bulk_study_meta[\"sample_title_set\"].apply(det_gse, term=i)\n",
    "#    gse_per_term.append(len(bulk_study_meta.loc[bulk_study_meta[\"det_gse\"] == 1][\"series_id\"].unique()))\n",
    "#    bulk_study_meta[\"det_gse\"] = np.zeros(162372)\n",
    "    \n",
    "#frequent_terms[\"num_gse\"] = gse_per_term\n",
    "#frequent_terms.to_csv(species+\"_frequent_terms_gse_count.csv\", index=False)"
   ]
  },
  {
   "cell_type": "code",
   "execution_count": null,
   "id": "4bbee8dc",
   "metadata": {},
   "outputs": [],
   "source": [
    "#def gsm_title_cluster(series, cluster_esp = 0.01, cluster_min_samp = 2):\n",
    "#    mlb = MultiLabelBinarizer()\n",
    "#    term_mat = mlb.fit_transform(series[\"sample_title_set\"])\n",
    "#    if 1 in term_mat.shape: return np.zeros(len(series)).astype(int)\n",
    "#    pca = PCA()\n",
    "#    pca.fit(term_mat.T)\n",
    "#    clustering = DBSCAN(eps=0.01, min_samples=2)\n",
    "#    #print(list(zip(pca.components_[0], pca.components_[1])))\n",
    "#    #clustering.fit(list(zip(pca.components_[0], pca.components_[1])))\n",
    "#    clustering.fit(pca.components_[0].reshape(-1, 1))\n",
    "#    return clustering.labels_"
   ]
  },
  {
   "cell_type": "code",
   "execution_count": null,
   "id": "80e0b8ba",
   "metadata": {
    "scrolled": true
   },
   "outputs": [],
   "source": [
    "# for gse in no_undet_study[\"series_id\"].unique():\n",
    "#    series = no_undet_study.loc[no_undet_study[\"series_id\"] == gse]\n",
    "#    no_undet_study.loc[no_undet_study[\"series_id\"] == gse, \"gsm_cluster\"] = gsm_title_cluster(series)"
   ]
  },
  {
   "cell_type": "code",
   "execution_count": null,
   "id": "668263fe",
   "metadata": {},
   "outputs": [],
   "source": [
    "#no_undet_study[\"gsm_cluster\"] = no_undet_study[\"sample_title_set\"].apply(hash)\n",
    "#sum(no_undet_study.groupby(\"gsm_cluster\")[\"sample_title_set\"].unique().apply(len) - 1) # return 0 if no hash collisions"
   ]
  },
  {
   "cell_type": "code",
   "execution_count": 14,
   "id": "b740f911",
   "metadata": {},
   "outputs": [],
   "source": [
    "def count_series(series):\n",
    "    series_counter = (Counter(list(zip(*series.groupby([\"cp_group\", \"sample_title_set\"])\n",
    "                                       .groups.keys()))[0]))\n",
    "    return (min(series_counter[0], 3), \n",
    "            min(series_counter[1], 3), \n",
    "            min(series_counter[2], 3)) # subgroup counts for undet, ctrl, pert group, respectively\n",
    "    \n",
    "\n",
    "# def categorize_gse_type(series):\n",
    "#     #undet_ct, ctrl_ct, pert_ct = count_series(series)\n",
    "#     gse_type = {(i, j, k):n for i in range(4) for j in range(4) for k in range(4) for n in range(64)}\n",
    "#     print(gse_type)\n",
    "    \n",
    "# def categorize_gse_type(series):\n",
    "#     undet_ct, ctrl_ct, pert_ct = count_series(series)\n",
    "#     if ctrl_ct == 0: \n",
    "#         if pert_ct == 2: return 2               # type  2:  2 groups, no ctrl(s)\n",
    "#         if pert_ct >= 3: return 5               # type  5: >2 groups, no ctrl(s)\n",
    "#     if ctrl_ct == 1:\n",
    "#         if pert_ct == 1: return 1               # type  1:  2 groups,  1 ctrl(s)\n",
    "#         if pert_ct >= 2: return 3               # type  3: >2 groups,  1 ctrl(s)\n",
    "#     if ctrl_ct >= 2:\n",
    "#         if pert_ct >= 1: return 4               # type  4: >2 groups, >2 ctrl(s)\n",
    "#     return -1                                   # type -1:  erratic"
   ]
  },
  {
   "cell_type": "code",
   "execution_count": 15,
   "id": "48fbdd9f",
   "metadata": {},
   "outputs": [
    {
     "name": "stdout",
     "output_type": "stream",
     "text": [
      "0 done\n",
      "1000 done\n",
      "2000 done\n",
      "3000 done\n",
      "4000 done\n",
      "5000 done\n",
      "6000 done\n"
     ]
    }
   ],
   "source": [
    "gse_types = {}\n",
    "for n, gse in enumerate(no_undet_study[\"series_id\"].unique()):\n",
    "    if n % 1000 == 0: print(n, \"done\")\n",
    "    series = no_undet_study.loc[no_undet_study[\"series_id\"] == gse]\n",
    "    gse_types[gse] = count_series(series)\n",
    "    \n",
    "categorized_gse = pd.DataFrame({\"gse\":gse_types.keys(), \"gse_type\":gse_types.values()})"
   ]
  },
  {
   "cell_type": "code",
   "execution_count": null,
   "id": "621b6286",
   "metadata": {},
   "outputs": [],
   "source": [
    "categorized_gse.loc[categorized_gse[\"gse_type\"] == (1, 0, 1)]"
   ]
  },
  {
   "cell_type": "code",
   "execution_count": null,
   "id": "d3b19bff",
   "metadata": {},
   "outputs": [],
   "source": [
    "no_undet_study.loc[no_undet_study.series_id == \"GSE133674\"].sort_values([\"cp_group\", \"sample_title_set\"])"
   ]
  },
  {
   "cell_type": "code",
   "execution_count": 16,
   "id": "f2ced86e",
   "metadata": {},
   "outputs": [
    {
     "name": "stdout",
     "output_type": "stream",
     "text": [
      "(?, c, p)    freq   3 := >2\n",
      "(3, 0, 0)    1053\n",
      "(2, 0, 0)     959\n",
      "(1, 1, 0)     883\n",
      "(0, 1, 1)     768\n",
      "(1, 0, 0)     606\n",
      "(2, 2, 0)     291\n",
      "(2, 1, 0)     228\n",
      "(0, 2, 2)     192\n",
      "(3, 1, 0)     185\n",
      "(3, 3, 0)     166\n",
      "(1, 0, 1)     149\n",
      "(3, 2, 0)     121\n",
      "(0, 3, 3)      92\n",
      "(1, 1, 1)      80\n",
      "(0, 2, 0)      68\n",
      "(2, 1, 1)      66\n",
      "(1, 2, 1)      65\n",
      "(1, 3, 0)      56\n",
      "(0, 0, 2)      52\n",
      "(0, 1, 2)      51\n",
      "(2, 0, 2)      48\n",
      "(0, 0, 3)      41\n",
      "(1, 1, 2)      41\n",
      "(1, 2, 0)      39\n",
      "(0, 1, 0)      36\n",
      "(3, 0, 1)      36\n",
      "(0, 3, 0)      36\n",
      "(2, 3, 0)      29\n",
      "(2, 0, 1)      26\n",
      "(3, 1, 1)      23\n",
      "(3, 0, 3)      23\n",
      "(0, 0, 1)      21\n",
      "(3, 3, 3)      20\n",
      "(0, 2, 1)      17\n",
      "(2, 2, 2)      16\n",
      "(1, 0, 2)      14\n",
      "(3, 0, 2)      14\n",
      "(3, 3, 1)      14\n",
      "(0, 2, 3)      14\n",
      "(0, 1, 3)      13\n",
      "(1, 3, 2)      13\n",
      "(1, 0, 3)      12\n",
      "(1, 3, 3)      12\n",
      "(1, 1, 3)      10\n",
      "(0, 3, 1)      10\n",
      "(2, 0, 3)      10\n",
      "(3, 2, 2)       9\n",
      "(1, 2, 3)       9\n",
      "(3, 2, 1)       9\n",
      "(3, 3, 2)       8\n",
      "(3, 2, 3)       8\n",
      "(2, 3, 2)       8\n",
      "(1, 2, 2)       8\n",
      "(2, 3, 1)       8\n",
      "(0, 3, 2)       7\n",
      "(2, 1, 3)       7\n",
      "(2, 2, 1)       7\n",
      "(2, 1, 2)       6\n",
      "(2, 3, 3)       5\n",
      "(1, 3, 1)       5\n",
      "(3, 1, 2)       4\n",
      "(2, 2, 3)       3\n",
      "(3, 1, 3)       2\n"
     ]
    }
   ],
   "source": [
    "print(\"(?, c, p)    freq   3 := >2\")\n",
    "print(categorized_gse[\"gse_type\"].value_counts().to_string())"
   ]
  },
  {
   "cell_type": "code",
   "execution_count": null,
   "id": "befe0e7e",
   "metadata": {},
   "outputs": [],
   "source": [
    "# no_undet_study[\"gse_type\"] = np.zeros(len(no_undet_study)).astype(int)\n",
    "\n",
    "# for gse in no_undet_study[\"series_id\"].unique():\n",
    "#     series = no_undet_study.loc[no_undet_study[\"series_id\"] == gse]\n",
    "#     no_undet_study.loc[no_undet_study[\"series_id\"] == gse, \"gse_type\"] = np.repeat(categorize_gse_type(series), len(series))"
   ]
  },
  {
   "cell_type": "code",
   "execution_count": 17,
   "id": "a8cb8ae4",
   "metadata": {},
   "outputs": [],
   "source": [
    "def extrap_score(study_cat):\n",
    "    #penalize inferred type (ctrl, pert), direction, --pairing--\n",
    "    undet, ctrl, pert = study_cat\n",
    "    score = 0\n",
    "    if undet == 0 or pert == 0:                 #(0, x, y) or (y, x, 0)\n",
    "        if ctrl == 1:                           #(0, 1, y) or (y, 1, 0)\n",
    "            if undet != 0: score += 1           #penalty for inferred pert\n",
    "        if ctrl < 1:                            #(0, 0, y) or (y, 0, 0)\n",
    "            score += 1                          #penalty for inferred ctrl\n",
    "            score += 2 if undet != 0 else 1     #penalty for inferred direction and/or inferred pert\n",
    "    else:\n",
    "        if ctrl < 1:                            #(x, 0, y)\n",
    "            score += 1 if undet == 1 else -1    #penality for inferred ctrl\n",
    "        else:\n",
    "            score = -1                          #unaccounted for\n",
    "    return score\n",
    "        \n",
    "\n",
    "def to_calc_sig_format(study_cat, studies = no_undet_study, categorized_gse = categorized_gse):\n",
    "    undet, ctrl, pert = study_cat\n",
    "    study_group = studies.loc[studies.series_id.isin(\n",
    "        categorized_gse.loc[categorized_gse[\"gse_type\"] == study_cat][\"gse\"])].copy()\n",
    "    if ctrl == 0 and undet == 1: #(1, 0, x)\n",
    "        study_group.replace({'cp_group':{0:\"ctrl_gsm\", 2:\"pert_gsm\"}}, inplace=True)\n",
    "    else:\n",
    "        study_group.replace({'cp_group':{1:\"ctrl_gsm\", 0:\"pert_gsm\", 2:\"pert_gsm\"}}, inplace=True)\n",
    "        \n",
    "    if ctrl == 0 and (undet == 0 or pert == 0):\n",
    "        study_cp_series = study_group.groupby([\"series_id\", \"sample_title_set\"])[\"cp_group\"].unique()\n",
    "        new_ctrl_idx = study_cp_series.index[::2]\n",
    "        study_cp_series[study_cp_series.index.isin(new_ctrl_idx)] = \"ctrl_gsm\"\n",
    "        study_group_map = dict(study_cp_series.explode())\n",
    "        study_group = (study_group.assign(cp_group=study_group[[\"series_id\",\"sample_title_set\"]]\n",
    "                                         .apply(tuple, axis=1).map(study_group_map)))\n",
    "            \n",
    "        \n",
    "    return (study_group\n",
    "            .groupby([\"series_id\", \"cp_group\",\"sample_title_set\"])[\"geo_accession\"]\n",
    "            .aggregate(lambda x: list(x))\n",
    "            #.aggregate(lambda x: \"|\".join(x))\n",
    "            .unstack()\n",
    "            .apply(lambda x: list(x.dropna()), axis=1)\n",
    "            .unstack()\n",
    "            .explode(\"ctrl_gsm\")\n",
    "            .explode(\"pert_gsm\")\n",
    "            .assign(extrap_score=extrap_score(study_cat)))"
   ]
  },
  {
   "cell_type": "code",
   "execution_count": 18,
   "id": "0cbd3597",
   "metadata": {},
   "outputs": [],
   "source": [
    "valid_types = [(0, 1, 1), (0, 1, 2), (0, 1, 3), \n",
    "               (1, 1, 0), (2, 1, 0), (3, 1, 0), \n",
    "               (0, 0, 2), (2, 0, 0),\n",
    "               (1, 0, 1), (1, 0, 2), (1, 0, 3)]\n",
    "gsm4sig = pd.concat([to_calc_sig_format(i) for i in valid_types]).reset_index()\n",
    "gsm4sig[\"series_id\"] = gsm4sig[\"series_id\"].replace(regex=r\"\\t\", value=\"-\")\n",
    "gsm4sig.to_csv(f\"{species}_gsm4sig_v{gsm4sig_version}.csv\")"
   ]
  },
  {
   "cell_type": "code",
   "execution_count": null,
   "id": "8be521d9",
   "metadata": {},
   "outputs": [],
   "source": [
    "len(gsm4sig)"
   ]
  }
 ],
 "metadata": {
  "kernelspec": {
   "display_name": "Python 3",
   "language": "python",
   "name": "python3"
  },
  "language_info": {
   "codemirror_mode": {
    "name": "ipython",
    "version": 3
   },
   "file_extension": ".py",
   "mimetype": "text/x-python",
   "name": "python",
   "nbconvert_exporter": "python",
   "pygments_lexer": "ipython3",
   "version": "3.8.10"
  }
 },
 "nbformat": 4,
 "nbformat_minor": 5
}
