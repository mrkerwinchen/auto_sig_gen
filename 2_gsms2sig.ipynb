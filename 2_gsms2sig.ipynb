{
 "cells": [
  {
   "cell_type": "code",
   "execution_count": 1,
   "metadata": {},
   "outputs": [],
   "source": [
    "import pandas as pd\n",
    "import h5py as h5\n",
    "import numpy as np\n",
    "from maayanlab_bioinformatics.dge import limma_voom\n",
    "import os"
   ]
  },
  {
   "cell_type": "code",
   "execution_count": 2,
   "metadata": {},
   "outputs": [],
   "source": [
    "species = \"mouse\"\n",
    "h5_version = \"10\"\n",
    "gsm4sig_version = 1\n",
    "\n",
    "# Create a folder for results \n",
    "os.makedirs(f'results/{species}/')"
   ]
  },
  {
   "cell_type": "code",
   "execution_count": 3,
   "metadata": {},
   "outputs": [],
   "source": [
    "# Load ARCHS4 data\n",
    "f = h5.File(f\"{species}_matrix_v{h5_version}.h5\", \"r\")\n",
    "expression = f['data/expression']\n",
    "genes = [x.decode('UTF-8') for x in f['meta/genes/gene_symbol']]\n",
    "samples = [x.decode('UTF-8') for x in f['meta/samples/geo_accession']] #GSMs"
   ]
  },
  {
   "cell_type": "code",
   "execution_count": null,
   "metadata": {},
   "outputs": [],
   "source": [
    "# Define control and pertubration samples\n",
    "study = 'GSE100363'\n",
    "ctrl = ['GSM2679560','GSM2679562','GSM2679564','GSM2679566']\n",
    "pert = ['GSM2679559','GSM2679561','GSM2679563','GSM2679565']"
   ]
  },
  {
   "cell_type": "code",
   "execution_count": 4,
   "metadata": {},
   "outputs": [],
   "source": [
    "# Perform DEG analysis with Limma\n",
    "# study_idx: index of study\n",
    "# study_name: GSE\n",
    "# control_samples: list of control GSMs\n",
    "# pert_samples: list of perturbation GSMs\n",
    "\n",
    "def degAnalysisLimma (study_idx, study_name, control_samples, pert_samples):\n",
    "    \n",
    "    # Find where control and perturbation samples are in ARCHS4\n",
    "    control_idx = sorted([i for i,x in enumerate(samples) if x in control_samples])\n",
    "    pert_idx =  sorted([i for i,x in enumerate(samples) if x in pert_samples])\n",
    "    \n",
    "    # Subset control samples to dataframe\n",
    "    control_df = pd.DataFrame(expression[:,control_idx])\n",
    "    control_df.index = genes\n",
    "    control_df.columns = ['control' + str(n) for n in range(0,len(control_df.columns))]\n",
    "    \n",
    "    # Subset perturbation samples to dataframe\n",
    "    pert_df = pd.DataFrame(expression[:,pert_idx])\n",
    "    pert_df.index = genes\n",
    "    pert_df.columns = ['pert' + str(n) for n in range(0,len(pert_df.columns))]\n",
    "\n",
    "    # Limma voom expects the raw gene counts\n",
    "    # Perform DEG analysis\n",
    "    deg_results = limma_voom.limma_voom_differential_expression(controls_mat= control_df, cases_mat= pert_df, voom_design=True,filter_genes=True)\n",
    "    \n",
    "    # Save results to csv file in results folder \n",
    "    deg_results.to_csv(f'results/{species}/{study_idx}_{study_name}_limma_results.csv')\n"
   ]
  },
  {
   "cell_type": "code",
   "execution_count": 5,
   "metadata": {},
   "outputs": [],
   "source": [
    "gsm4sig = pd.read_csv(f\"{species}_gsm4sig_v{gsm4sig_version}.csv\", converters = {\"ctrl_gsm\":eval, \"pert_gsm\":eval}, index_col=0)"
   ]
  },
  {
   "cell_type": "code",
   "execution_count": 6,
   "metadata": {},
   "outputs": [
    {
     "data": {
      "text/plain": [
       "4216"
      ]
     },
     "execution_count": 6,
     "metadata": {},
     "output_type": "execute_result"
    }
   ],
   "source": [
    "len(gsm4sig)"
   ]
  },
  {
   "cell_type": "code",
   "execution_count": 11,
   "metadata": {
    "scrolled": true
   },
   "outputs": [
    {
     "name": "stderr",
     "output_type": "stream",
     "text": [
      "R[write to console]: Loading required package: R.oo\n",
      "\n",
      "R[write to console]: Loading required package: R.methodsS3\n",
      "\n",
      "R[write to console]: R.methodsS3 v1.8.1 (2020-08-26 16:20:06 UTC) successfully loaded. See ?R.methodsS3 for help.\n",
      "\n",
      "R[write to console]: R.oo v1.24.0 (2020-08-26 16:11:58 UTC) successfully loaded. See ?R.oo for help.\n",
      "\n",
      "R[write to console]: \n",
      "Attaching package: 'R.oo'\n",
      "\n",
      "\n",
      "R[write to console]: The following object is masked from 'package:R.methodsS3':\n",
      "\n",
      "    throw\n",
      "\n",
      "\n",
      "R[write to console]: The following objects are masked from 'package:methods':\n",
      "\n",
      "    getClasses, getMethods\n",
      "\n",
      "\n",
      "R[write to console]: The following objects are masked from 'package:base':\n",
      "\n",
      "    attach, detach, load, save\n",
      "\n",
      "\n",
      "R[write to console]: R.utils v2.10.1 (2020-08-26 22:50:31 UTC) successfully loaded. See ?R.utils for help.\n",
      "\n",
      "R[write to console]: \n",
      "Attaching package: 'R.utils'\n",
      "\n",
      "\n",
      "R[write to console]: The following object is masked from 'package:utils':\n",
      "\n",
      "    timestamp\n",
      "\n",
      "\n",
      "R[write to console]: The following objects are masked from 'package:base':\n",
      "\n",
      "    cat, commandArgs, getOption, inherits, isOpen, nullfile, parse,\n",
      "    warnings\n",
      "\n",
      "\n",
      "R[write to console]: \n",
      "Attaching package: 'RCurl'\n",
      "\n",
      "\n",
      "R[write to console]: The following object is masked from 'package:R.utils':\n",
      "\n",
      "    reset\n",
      "\n",
      "\n",
      "R[write to console]: The following object is masked from 'package:R.oo':\n",
      "\n",
      "    clone\n",
      "\n",
      "\n",
      "R[write to console]: Loading required package: S4Vectors\n",
      "\n",
      "R[write to console]: Loading required package: stats4\n",
      "\n",
      "R[write to console]: Loading required package: BiocGenerics\n",
      "\n",
      "R[write to console]: Loading required package: parallel\n",
      "\n",
      "R[write to console]: \n",
      "Attaching package: 'BiocGenerics'\n",
      "\n",
      "\n",
      "R[write to console]: The following objects are masked from 'package:parallel':\n",
      "\n",
      "    clusterApply, clusterApplyLB, clusterCall, clusterEvalQ,\n",
      "    clusterExport, clusterMap, parApply, parCapply, parLapply,\n",
      "    parLapplyLB, parRapply, parSapply, parSapplyLB\n",
      "\n",
      "\n",
      "R[write to console]: The following objects are masked from 'package:stats':\n",
      "\n",
      "    IQR, mad, sd, var, xtabs\n",
      "\n",
      "\n",
      "R[write to console]: The following objects are masked from 'package:base':\n",
      "\n",
      "    anyDuplicated, append, as.data.frame, basename, cbind, colnames,\n",
      "    dirname, do.call, duplicated, eval, evalq, Filter, Find, get, grep,\n",
      "    grepl, intersect, is.unsorted, lapply, Map, mapply, match, mget,\n",
      "    order, paste, pmax, pmax.int, pmin, pmin.int, Position, rank,\n",
      "    rbind, Reduce, rownames, sapply, setdiff, sort, table, tapply,\n",
      "    union, unique, unsplit, which.max, which.min\n",
      "\n",
      "\n",
      "R[write to console]: \n",
      "Attaching package: 'S4Vectors'\n",
      "\n",
      "\n",
      "R[write to console]: The following object is masked from 'package:base':\n",
      "\n",
      "    expand.grid\n",
      "\n",
      "\n",
      "R[write to console]: Loading required package: IRanges\n",
      "\n",
      "R[write to console]: \n",
      "Attaching package: 'IRanges'\n",
      "\n",
      "\n",
      "R[write to console]: The following object is masked from 'package:R.oo':\n",
      "\n",
      "    trim\n",
      "\n",
      "\n",
      "R[write to console]: The following object is masked from 'package:grDevices':\n",
      "\n",
      "    windows\n",
      "\n",
      "\n",
      "R[write to console]: Loading required package: GenomicRanges\n",
      "\n",
      "R[write to console]: Loading required package: GenomeInfoDb\n",
      "\n",
      "R[write to console]: Loading required package: SummarizedExperiment\n",
      "\n",
      "R[write to console]: Loading required package: MatrixGenerics\n",
      "\n",
      "R[write to console]: Loading required package: matrixStats\n",
      "\n",
      "R[write to console]: \n",
      "Attaching package: 'MatrixGenerics'\n",
      "\n",
      "\n",
      "R[write to console]: The following objects are masked from 'package:matrixStats':\n",
      "\n",
      "    colAlls, colAnyNAs, colAnys, colAvgsPerRowSet, colCollapse,\n",
      "    colCounts, colCummaxs, colCummins, colCumprods, colCumsums,\n",
      "    colDiffs, colIQRDiffs, colIQRs, colLogSumExps, colMadDiffs,\n",
      "    colMads, colMaxs, colMeans2, colMedians, colMins, colOrderStats,\n",
      "    colProds, colQuantiles, colRanges, colRanks, colSdDiffs, colSds,\n",
      "    colSums2, colTabulates, colVarDiffs, colVars, colWeightedMads,\n",
      "    colWeightedMeans, colWeightedMedians, colWeightedSds,\n",
      "    colWeightedVars, rowAlls, rowAnyNAs, rowAnys, rowAvgsPerColSet,\n",
      "    rowCollapse, rowCounts, rowCummaxs, rowCummins, rowCumprods,\n",
      "    rowCumsums, rowDiffs, rowIQRDiffs, rowIQRs, rowLogSumExps,\n",
      "    rowMadDiffs, rowMads, rowMaxs, rowMeans2, rowMedians, rowMins,\n",
      "    rowOrderStats, rowProds, rowQuantiles, rowRanges, rowRanks,\n",
      "    rowSdDiffs, rowSds, rowSums2, rowTabulates, rowVarDiffs, rowVars,\n",
      "    rowWeightedMads, rowWeightedMeans, rowWeightedMedians,\n",
      "    rowWeightedSds, rowWeightedVars\n",
      "\n",
      "\n",
      "R[write to console]: Loading required package: Biobase\n",
      "\n",
      "R[write to console]: Welcome to Bioconductor\n",
      "\n",
      "    Vignettes contain introductory material; view with\n",
      "    'browseVignettes()'. To cite Bioconductor, see\n",
      "    'citation(\"Biobase\")', and for packages 'citation(\"pkgname\")'.\n",
      "\n",
      "\n",
      "R[write to console]: \n",
      "Attaching package: 'Biobase'\n",
      "\n",
      "\n",
      "R[write to console]: The following object is masked from 'package:MatrixGenerics':\n",
      "\n",
      "    rowMedians\n",
      "\n",
      "\n",
      "R[write to console]: The following objects are masked from 'package:matrixStats':\n",
      "\n",
      "    anyMissing, rowMedians\n",
      "\n",
      "\n",
      "R[write to console]: \n",
      "Attaching package: 'limma'\n",
      "\n",
      "\n",
      "R[write to console]: The following object is masked from 'package:DESeq2':\n",
      "\n",
      "    plotMA\n",
      "\n",
      "\n",
      "R[write to console]: The following object is masked from 'package:BiocGenerics':\n",
      "\n",
      "    plotMA\n",
      "\n",
      "\n"
     ]
    },
    {
     "name": "stdout",
     "output_type": "stream",
     "text": [
      "2500 signatures calculated\n",
      "2600 signatures calculated\n",
      "2700 signatures calculated\n",
      "2800 signatures calculated\n",
      "2900 signatures calculated\n",
      "3000 signatures calculated\n",
      "3100 signatures calculated\n",
      "3200 signatures calculated\n",
      "3300 signatures calculated\n",
      "3400 signatures calculated\n",
      "3500 signatures calculated\n",
      "3600 signatures calculated\n",
      "3700 signatures calculated\n",
      "3800 signatures calculated\n",
      "3900 signatures calculated\n",
      "4000 signatures calculated\n",
      "4100 signatures calculated\n",
      "4200 signatures calculated\n"
     ]
    }
   ],
   "source": [
    "for idx in gsm4sig.index[2407:]:\n",
    "    if idx % 100 == 0: print(idx, \"signatures calculated\")\n",
    "    degAnalysisLimma(idx, gsm4sig.at[idx, \"series_id\"], gsm4sig.at[idx, \"ctrl_gsm\"], gsm4sig.at[idx, \"pert_gsm\"])"
   ]
  },
  {
   "cell_type": "code",
   "execution_count": null,
   "metadata": {},
   "outputs": [],
   "source": [
    "# Call function to get results\n",
    "degAnalysisLimma(4, study, ctrl, pert)"
   ]
  },
  {
   "cell_type": "code",
   "execution_count": 12,
   "metadata": {},
   "outputs": [],
   "source": [
    "f.close()"
   ]
  },
  {
   "cell_type": "code",
   "execution_count": 32,
   "metadata": {},
   "outputs": [
    {
     "name": "stdout",
     "output_type": "stream",
     "text": [
      "Signature statistics for mouse:\n",
      "\n",
      "Total Signatures: 4216\n",
      "High quality signatures (score=0,1): 76.02%\n",
      "Breakdown by extrap_score:\n",
      "1    2290\n",
      "3     959\n",
      "0     915\n",
      "2      52\n",
      "Name: extrap_score, dtype: int64\n"
     ]
    },
    {
     "data": {
      "image/png": "[encoded data removed]",
      "text/plain": [
       "<Figure size 432x288 with 1 Axes>"
      ]
     },
     "metadata": {
      "needs_background": "light"
     },
     "output_type": "display_data"
    }
   ],
   "source": [
    "print(f\"Signature statistics for {species}:\\n\")\n",
    "print(f\"Total Signatures: {len(gsm4sig['extrap_score'])}\")\n",
    "print(f\"High quality signatures (score=0,1): \\\n",
    "{sum(gsm4sig['extrap_score'].value_counts()[[0,1]])/sum(gsm4sig['extrap_score'].value_counts())*100:.2f}%\")\n",
    "print(f\"Breakdown by extrap_score:\\n{gsm4sig['extrap_score'].value_counts()}\")\n",
    "plt.bar(gsm4sig[\"extrap_score\"].value_counts().index, gsm4sig[\"extrap_score\"].value_counts())\n",
    "plt.show()"
   ]
  },
  {
   "cell_type": "code",
   "execution_count": 14,
   "metadata": {},
   "outputs": [
    {
     "data": {
      "text/plain": [
       "0.7601992409867173"
      ]
     },
     "execution_count": 14,
     "metadata": {},
     "output_type": "execute_result"
    }
   ],
   "source": [
    "sum(gsm4sig[\"extrap_score\"].value_counts()[[0,1]])/sum(gsm4sig[\"extrap_score\"].value_counts())"
   ]
  },
  {
   "cell_type": "code",
   "execution_count": 15,
   "metadata": {},
   "outputs": [
    {
     "data": {
      "text/plain": [
       "<BarContainer object of 4 artists>"
      ]
     },
     "execution_count": 15,
     "metadata": {},
     "output_type": "execute_result"
    },
    {
     "data": {
      "image/png": "[encoded data removed]",
      "text/plain": [
       "<Figure size 432x288 with 1 Axes>"
      ]
     },
     "metadata": {
      "needs_background": "light"
     },
     "output_type": "display_data"
    }
   ],
   "source": [
    "from matplotlib import pyplot as plt\n",
    "plt.bar(gsm4sig[\"extrap_score\"].value_counts().index, gsm4sig[\"extrap_score\"].value_counts())"
   ]
  },
  {
   "cell_type": "code",
   "execution_count": null,
   "metadata": {},
   "outputs": [],
   "source": []
  }
 ],
 "metadata": {
  "interpreter": {
   "hash": "68de00419a67eafaffdd5ccc6da89a048dbca2ae1ad23e160afe16f2a307f6d3"
  },
  "kernelspec": {
   "display_name": "Python 3",
   "language": "python",
   "name": "python3"
  },
  "language_info": {
   "codemirror_mode": {
    "name": "ipython",
    "version": 3
   },
   "file_extension": ".py",
   "mimetype": "text/x-python",
   "name": "python",
   "nbconvert_exporter": "python",
   "pygments_lexer": "ipython3",
   "version": "3.8.10"
  }
 },
 "nbformat": 4,
 "nbformat_minor": 2
}
