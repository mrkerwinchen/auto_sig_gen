{
 "cells": [
  {
   "cell_type": "code",
   "execution_count": 2,
   "id": "bfe288d5",
   "metadata": {},
   "outputs": [],
   "source": [
    "import pandas as pd\n",
    "import numpy as np\n",
    "import h5py as h5\n",
    "from glob import glob\n",
    "import requests\n",
    "import json\n",
    "import time\n",
    "from collections import defaultdict\n",
    "import os\n",
    "import pyarrow.feather as feather\n",
    "from matplotlib import pyplot as plt"
   ]
  },
  {
   "cell_type": "code",
   "execution_count": 2,
   "id": "d169954e",
   "metadata": {},
   "outputs": [],
   "source": [
    "species = \"mouse\"\n",
    "h5_version = 10\n",
    "gsm4sig_version = 1"
   ]
  },
  {
   "cell_type": "code",
   "execution_count": 3,
   "id": "75a7a3e6",
   "metadata": {},
   "outputs": [],
   "source": [
    "f = h5.File(f\"{species}_matrix_v{h5_version}.h5\", \"r\")\n",
    "genes = [x.decode('UTF-8') for x in f['meta/genes/gene_symbol']]\n",
    "f.close()"
   ]
  },
  {
   "cell_type": "code",
   "execution_count": 3,
   "id": "b87f60f4",
   "metadata": {},
   "outputs": [],
   "source": [
    "gsm4sig = pd.read_csv(f\"{species}_gsm4sig_v{gsm4sig_version}.csv\", index_col=0)\n",
    "gsm4sig[\"sig_num\"] = gsm4sig.groupby(\"series_id\").cumcount()+1"
   ]
  },
  {
   "cell_type": "code",
   "execution_count": 4,
   "id": "22eb2f3a",
   "metadata": {},
   "outputs": [
    {
     "data": {
      "text/plain": [
       "3314"
      ]
     },
     "execution_count": 4,
     "metadata": {},
     "output_type": "execute_result"
    }
   ],
   "source": [
    "len(gsm4sig[\"series_id\"].unique())"
   ]
  },
  {
   "cell_type": "code",
   "execution_count": 5,
   "id": "091e0947",
   "metadata": {},
   "outputs": [
    {
     "data": {
      "text/html": [
       "<div>\n",
       "<style scoped>\n",
       "    .dataframe tbody tr th:only-of-type {\n",
       "        vertical-align: middle;\n",
       "    }\n",
       "\n",
       "    .dataframe tbody tr th {\n",
       "        vertical-align: top;\n",
       "    }\n",
       "\n",
       "    .dataframe thead th {\n",
       "        text-align: right;\n",
       "    }\n",
       "</style>\n",
       "<table border=\"1\" class=\"dataframe\">\n",
       "  <thead>\n",
       "    <tr style=\"text-align: right;\">\n",
       "      <th></th>\n",
       "      <th>series_id</th>\n",
       "      <th>ctrl_gsm</th>\n",
       "      <th>pert_gsm</th>\n",
       "      <th>extrap_score</th>\n",
       "      <th>sig_num</th>\n",
       "    </tr>\n",
       "  </thead>\n",
       "  <tbody>\n",
       "    <tr>\n",
       "      <th>0</th>\n",
       "      <td>GSE100071-GSE100073</td>\n",
       "      <td>['GSM2670856', 'GSM2670857']</td>\n",
       "      <td>['GSM2670854', 'GSM2670855']</td>\n",
       "      <td>0</td>\n",
       "      <td>1</td>\n",
       "    </tr>\n",
       "    <tr>\n",
       "      <th>1</th>\n",
       "      <td>GSE100732-GSE100733</td>\n",
       "      <td>['GSM2692149', 'GSM2692150', 'GSM2692151', 'GS...</td>\n",
       "      <td>['GSM2692145', 'GSM2692146', 'GSM2692147', 'GS...</td>\n",
       "      <td>0</td>\n",
       "      <td>1</td>\n",
       "    </tr>\n",
       "    <tr>\n",
       "      <th>2</th>\n",
       "      <td>GSE100811</td>\n",
       "      <td>['GSM2693914', 'GSM2693917']</td>\n",
       "      <td>['GSM2693919', 'GSM2693922']</td>\n",
       "      <td>0</td>\n",
       "      <td>1</td>\n",
       "    </tr>\n",
       "    <tr>\n",
       "      <th>3</th>\n",
       "      <td>GSE100898</td>\n",
       "      <td>['GSM2695838', 'GSM2695839', 'GSM2695840']</td>\n",
       "      <td>['GSM2695832', 'GSM2695833', 'GSM2695834', 'GS...</td>\n",
       "      <td>0</td>\n",
       "      <td>1</td>\n",
       "    </tr>\n",
       "    <tr>\n",
       "      <th>4</th>\n",
       "      <td>GSE100923</td>\n",
       "      <td>['GSM2696476', 'GSM2696477', 'GSM2696478', 'GS...</td>\n",
       "      <td>['GSM2696482', 'GSM2696483', 'GSM2696484', 'GS...</td>\n",
       "      <td>0</td>\n",
       "      <td>1</td>\n",
       "    </tr>\n",
       "    <tr>\n",
       "      <th>...</th>\n",
       "      <td>...</td>\n",
       "      <td>...</td>\n",
       "      <td>...</td>\n",
       "      <td>...</td>\n",
       "      <td>...</td>\n",
       "    </tr>\n",
       "    <tr>\n",
       "      <th>4211</th>\n",
       "      <td>GSE92721</td>\n",
       "      <td>['GSM2436423', 'GSM2436425', 'GSM2436424']</td>\n",
       "      <td>['GSM2436429', 'GSM2436430', 'GSM2436431', 'GS...</td>\n",
       "      <td>1</td>\n",
       "      <td>4</td>\n",
       "    </tr>\n",
       "    <tr>\n",
       "      <th>4212</th>\n",
       "      <td>GSE92721</td>\n",
       "      <td>['GSM2436423', 'GSM2436425', 'GSM2436424']</td>\n",
       "      <td>['GSM2436451', 'GSM2436450', 'GSM2436447', 'GS...</td>\n",
       "      <td>1</td>\n",
       "      <td>5</td>\n",
       "    </tr>\n",
       "    <tr>\n",
       "      <th>4213</th>\n",
       "      <td>GSE92721</td>\n",
       "      <td>['GSM2436423', 'GSM2436425', 'GSM2436424']</td>\n",
       "      <td>['GSM2436441', 'GSM2436439', 'GSM2436440']</td>\n",
       "      <td>1</td>\n",
       "      <td>6</td>\n",
       "    </tr>\n",
       "    <tr>\n",
       "      <th>4214</th>\n",
       "      <td>GSE92721</td>\n",
       "      <td>['GSM2436423', 'GSM2436425', 'GSM2436424']</td>\n",
       "      <td>['GSM2436442', 'GSM2436443']</td>\n",
       "      <td>1</td>\n",
       "      <td>7</td>\n",
       "    </tr>\n",
       "    <tr>\n",
       "      <th>4215</th>\n",
       "      <td>GSE92721</td>\n",
       "      <td>['GSM2436423', 'GSM2436425', 'GSM2436424']</td>\n",
       "      <td>['GSM2436446', 'GSM2436449', 'GSM2436445']</td>\n",
       "      <td>1</td>\n",
       "      <td>8</td>\n",
       "    </tr>\n",
       "  </tbody>\n",
       "</table>\n",
       "<p>4216 rows × 5 columns</p>\n",
       "</div>"
      ],
      "text/plain": [
       "                series_id                                           ctrl_gsm  \\\n",
       "0     GSE100071-GSE100073                       ['GSM2670856', 'GSM2670857']   \n",
       "1     GSE100732-GSE100733  ['GSM2692149', 'GSM2692150', 'GSM2692151', 'GS...   \n",
       "2               GSE100811                       ['GSM2693914', 'GSM2693917']   \n",
       "3               GSE100898         ['GSM2695838', 'GSM2695839', 'GSM2695840']   \n",
       "4               GSE100923  ['GSM2696476', 'GSM2696477', 'GSM2696478', 'GS...   \n",
       "...                   ...                                                ...   \n",
       "4211             GSE92721         ['GSM2436423', 'GSM2436425', 'GSM2436424']   \n",
       "4212             GSE92721         ['GSM2436423', 'GSM2436425', 'GSM2436424']   \n",
       "4213             GSE92721         ['GSM2436423', 'GSM2436425', 'GSM2436424']   \n",
       "4214             GSE92721         ['GSM2436423', 'GSM2436425', 'GSM2436424']   \n",
       "4215             GSE92721         ['GSM2436423', 'GSM2436425', 'GSM2436424']   \n",
       "\n",
       "                                               pert_gsm  extrap_score  sig_num  \n",
       "0                          ['GSM2670854', 'GSM2670855']             0        1  \n",
       "1     ['GSM2692145', 'GSM2692146', 'GSM2692147', 'GS...             0        1  \n",
       "2                          ['GSM2693919', 'GSM2693922']             0        1  \n",
       "3     ['GSM2695832', 'GSM2695833', 'GSM2695834', 'GS...             0        1  \n",
       "4     ['GSM2696482', 'GSM2696483', 'GSM2696484', 'GS...             0        1  \n",
       "...                                                 ...           ...      ...  \n",
       "4211  ['GSM2436429', 'GSM2436430', 'GSM2436431', 'GS...             1        4  \n",
       "4212  ['GSM2436451', 'GSM2436450', 'GSM2436447', 'GS...             1        5  \n",
       "4213         ['GSM2436441', 'GSM2436439', 'GSM2436440']             1        6  \n",
       "4214                       ['GSM2436442', 'GSM2436443']             1        7  \n",
       "4215         ['GSM2436446', 'GSM2436449', 'GSM2436445']             1        8  \n",
       "\n",
       "[4216 rows x 5 columns]"
      ]
     },
     "execution_count": 5,
     "metadata": {},
     "output_type": "execute_result"
    }
   ],
   "source": [
    "gsm4sig"
   ]
  },
  {
   "cell_type": "code",
   "execution_count": 11,
   "id": "d61359b7",
   "metadata": {},
   "outputs": [
    {
     "name": "stdout",
     "output_type": "stream",
     "text": [
      "0 done\n",
      "200 done\n",
      "400 done\n",
      "600 done\n",
      "800 done\n"
     ]
    }
   ],
   "source": [
    "gse2title = defaultdict(lambda: \"\")\n",
    "gse_trunc = gsm4sig[\"series_id\"].str.split(\"-\").map(lambda x: x[0]) #keeps only subseries if sub/superseries exists\n",
    "api_key = \"c7fd608eb4d0457730e1f68147ea9c4af308\"                    #use of api_key increases rate limit 3 -> 10 req/s\n",
    "for i, gse in enumerate(gse_trunc.unique()):                        #find title of the study via the ncbi e-utilities api\n",
    "    if i % 200 == 0: print(i, \"done\")                               #for use as part of signature name\n",
    "    try:\n",
    "        url = \"https://eutils.ncbi.nlm.nih.gov/entrez/eutils/\"\n",
    "        params = {\"db\":\"gds\", \n",
    "                  \"term\": f\"{gse}[ACCN]\", \n",
    "                  \"retmax\":1, \n",
    "                  \"retmode\":\"json\",\n",
    "                  \"api_key\":api_key}\n",
    "        r = requests.get(url + \"esearch.fcgi\", params=params)\n",
    "        params[\"id\"] = r.json()[\"esearchresult\"][\"idlist\"][0]\n",
    "        r = requests.get(url + \"esummary.fcgi\", params=params)\n",
    "        gse2title[gse] = r.json()['result'][params[\"id\"]][\"title\"]\n",
    "        del params[\"id\"]\n",
    "        time.sleep(1/6)\n",
    "    except:\n",
    "        print(i, gse)"
   ]
  },
  {
   "cell_type": "code",
   "execution_count": 12,
   "id": "de06834a",
   "metadata": {},
   "outputs": [
    {
     "data": {
      "text/plain": [
       "{'GSE134686', 'GSE151501', 'GSE154939'}"
      ]
     },
     "execution_count": 12,
     "metadata": {},
     "output_type": "execute_result"
    }
   ],
   "source": [
    "set(gse2title.keys()).symmetric_difference(set(gse_trunc.unique())) \n",
    "#studies in which the study name was not found (data privatized, etc)"
   ]
  },
  {
   "cell_type": "code",
   "execution_count": 15,
   "id": "7d1b99bf",
   "metadata": {},
   "outputs": [],
   "source": [
    "f = open(f\"{species}_gse2title.json\",\"w\")\n",
    "f.write(json.dumps(gse2title))\n",
    "f.close()"
   ]
  },
  {
   "cell_type": "code",
   "execution_count": 17,
   "id": "9e680a72",
   "metadata": {},
   "outputs": [
    {
     "name": "stdout",
     "output_type": "stream",
     "text": [
      "0 done\n",
      "200 done\n",
      "400 done\n",
      "600 done\n",
      "800 done\n",
      "1000 done\n",
      "1200 done\n",
      "1400 done\n",
      "1600 done\n",
      "1800 done\n",
      "2000 done\n",
      "2200 done\n",
      "2400 done\n",
      "2600 done\n",
      "2800 done\n",
      "3000 done\n",
      "3200 done\n",
      "3400 done\n",
      "3600 done\n",
      "3800 done\n",
      "4000 done\n",
      "4200 done\n"
     ]
    }
   ],
   "source": [
    "logFC = pd.DataFrame(index = genes)\n",
    "pval = pd.DataFrame(index = genes)\n",
    "adjpval = pd.DataFrame(index = genes)\n",
    "\n",
    "glob_csv = glob(f\"./results/{species}/*.csv\")\n",
    "for n, file in enumerate(glob_csv):                                                 #aggregate logFC, p-value, and adjusted\n",
    "    if n % 200 == 0: print(n, \"done\")                                               #p-value from each individual signature\n",
    "    if n % 500 == 0 and n != 0:                                                     #file into their own dataframe files for\n",
    "        logFC.to_csv(f\"./results/sub_{species}/{species}_logFC_chunk_{n}.csv\")      #easy query later with appyter.\n",
    "        pval.to_csv(f\"./results/sub_{species}/{species}_pval_chunk_{n}.csv\")        #files written at 500 signature increments\n",
    "        adjpval.to_csv(f\"./results/sub_{species}/{species}_adjpval_chunk_{n}.csv\")  #to speed up aggregation\n",
    "        \n",
    "        logFC = pd.DataFrame(index = genes)\n",
    "        pval = pd.DataFrame(index = genes)\n",
    "        adjpval = pd.DataFrame(index = genes)\n",
    "        \n",
    "    idx, gse = file.split(\"\\\\\")[-1].split(\"_\")[:2]\n",
    "    gse = gse.split(\"-\")[0]\n",
    "    colname = f\"{gse2title[gse]} {gse}_{gsm4sig.at[int(idx), 'sig_num']}\"\n",
    "    file_df = pd.read_csv(file, index_col=0)\n",
    "    \n",
    "    logFC = (logFC\n",
    "             .join(file_df[\"logFC\"], how=\"left\")\n",
    "             .rename(columns={\"logFC\":colname})\n",
    "             .fillna(0))\n",
    "\n",
    "    pval = (pval\n",
    "            .join(file_df[\"P.Value\"], how=\"left\")\n",
    "            .rename(columns={\"P.Value\":colname})\n",
    "            .fillna(1))\n",
    "    \n",
    "    adjpval = (adjpval\n",
    "               .join(file_df[\"adj.P.Val\"], how=\"left\")\n",
    "               .rename(columns={\"adj.P.Val\":colname})\n",
    "               .fillna(1))    \n",
    "    \n",
    "logFC.to_csv(f\"./results/sub_{species}/{species}_logFC_chunk_end.csv\")\n",
    "pval.to_csv(f\"./results/sub_{species}/{species}_pval_chunk_end.csv\")\n",
    "adjpval.to_csv(f\"./results/sub_{species}/{species}_adjpval_chunk_end.csv\")"
   ]
  },
  {
   "cell_type": "code",
   "execution_count": 25,
   "id": "91103ce4",
   "metadata": {},
   "outputs": [
    {
     "name": "stdout",
     "output_type": "stream",
     "text": [
      "done with logFC\n",
      "done with pval\n",
      "done with adjpval\n"
     ]
    }
   ],
   "source": [
    "data_type = [(\"logFC\", \"fc\"), (\"pval\", \"pval\"), (\"adjpval\",\"adjpval\")]\n",
    "for data, title in data_type:                                                    #500-increment files for logFC, p-value\n",
    "    glob_chunk = sorted(glob(f\"results/sub_{species}/{species}_{data}_*.csv\"),   #and adjusted p-value aggregated together\n",
    "                        key=os.path.getmtime)                                    #for one file each\n",
    "    pd.concat((pd.read_csv(file, index_col=0) for file in glob_chunk), axis=1).to_csv(f\"all_{species}_{title}.csv\")\n",
    "    print(\"done with\", data)"
   ]
  },
  {
   "cell_type": "code",
   "execution_count": 9,
   "id": "39cb9d5a",
   "metadata": {},
   "outputs": [
    {
     "name": "stdout",
     "output_type": "stream",
     "text": [
      "all_human_fc.csv\n",
      "all_human_pval.csv\n",
      "all_human_adjpval.csv\n",
      "all_mouse_fc.csv\n",
      "all_mouse_pval.csv\n",
      "all_mouse_adjpval.csv\n"
     ]
    }
   ],
   "source": [
    "species_list = [\"human\", \"mouse\"]\n",
    "data_list = [\"fc\", \"pval\", \"adjpval\"]\n",
    "\n",
    "for s in species_list:                                                           #csv files written as feather files to \n",
    "    for dat in data_list:                                                        #speed up reading speed during appyter query\n",
    "        df = pd.read_csv(f\"all_{s}_{dat}.csv\", index_col=0)\n",
    "        feather.write_feather(\n",
    "            df.T.reset_index().rename(columns={'index': 'sig'}), \n",
    "            f\"all_{s}_{dat}.feather\"\n",
    "        )\n",
    "        print(f\"all_{s}_{dat}.csv\")"
   ]
  },
  {
   "cell_type": "code",
   "execution_count": 5,
   "id": "e915b5c1",
   "metadata": {},
   "outputs": [
    {
     "name": "stdout",
     "output_type": "stream",
     "text": [
      "done with human fc\n",
      "done with human pval\n",
      "done with human adjpval\n",
      "done with human\n",
      "done with mouse fc\n",
      "done with mouse pval\n",
      "done with mouse adjpval\n",
      "done with mouse\n"
     ]
    }
   ],
   "source": [
    "species_list = [\"human\", \"mouse\"]\n",
    "data_list = [\"fc\", \"pval\", \"adjpval\"]\n",
    "num_splits = 350\n",
    "\n",
    "for s in species_list:                                                         #files split up into 350 files of ~100 genes\n",
    "    lookup_dict = {}                                                           #each in order to speed up reading during appyter\n",
    "    for n, dat in enumerate(data_list):                                        #query and make lookup json file to identify\n",
    "        big_df = pd.read_csv(f\"all_{s}_{dat}.csv\", index_col = 0)              #correct file to read given a queried gene\n",
    "        dfs = np.array_split(big_df, num_splits)\n",
    "        for i, df in enumerate(dfs):\n",
    "            if n == 0: lookup_dict.update({idx:i for idx in df.index})\n",
    "            df.T.to_csv(f\"split_datafiles/{s}/{s}_{dat}/{s}_{dat}_{i}.csv\")\n",
    "        print(f'done with {s} {dat}')\n",
    "    \n",
    "    with open(f'{s}_lookup.json', 'w') as f:\n",
    "        json.dump(lookup_dict, f)   \n",
    "    print(f'done with {s}')"
   ]
  },
  {
   "cell_type": "code",
   "execution_count": null,
   "id": "094be1c4",
   "metadata": {},
   "outputs": [],
   "source": [
    "print(f\"Signature statistics for {species}:\\n\")                                #generate summary statistics for the given \n",
    "print(f\"Total Signatures: {len(gsm4sig['extrap_score'])}\")                     #human/mouse signatures\n",
    "print(f\"High quality signatures (score=0,1): \\\n",
    "{sum(gsm4sig['extrap_score'].value_counts()[[0,1]])/sum(gsm4sig['extrap_score'].value_counts())*100:.2f}%\")\n",
    "print(f\"Breakdown by extrap_score:\\n{gsm4sig['extrap_score'].value_counts()}\")\n",
    "plt.bar(gsm4sig[\"extrap_score\"].value_counts().index, gsm4sig[\"extrap_score\"].value_counts())\n",
    "plt.show()"
   ]
  },
  {
   "cell_type": "code",
   "execution_count": null,
   "id": "8d6c0350",
   "metadata": {},
   "outputs": [],
   "source": []
  }
 ],
 "metadata": {
  "kernelspec": {
   "display_name": "Python 3",
   "language": "python",
   "name": "python3"
  },
  "language_info": {
   "codemirror_mode": {
    "name": "ipython",
    "version": 3
   },
   "file_extension": ".py",
   "mimetype": "text/x-python",
   "name": "python",
   "nbconvert_exporter": "python",
   "pygments_lexer": "ipython3",
   "version": "3.8.10"
  }
 },
 "nbformat": 4,
 "nbformat_minor": 5
}
