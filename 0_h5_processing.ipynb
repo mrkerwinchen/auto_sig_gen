{
 "cells": [
  {
   "cell_type": "code",
   "execution_count": 1,
   "id": "1d2e31ea",
   "metadata": {},
   "outputs": [],
   "source": [
    "import pandas as pd\n",
    "import numpy as np\n",
    "import h5py as h5\n",
    "import re"
   ]
  },
  {
   "cell_type": "code",
   "execution_count": 2,
   "id": "1b58b433",
   "metadata": {},
   "outputs": [],
   "source": [
    "species = \"mouse\"\n",
    "version = \"10\"\n",
    "\n",
    "single_cell_prob_thresh = 0.5"
   ]
  },
  {
   "cell_type": "code",
   "execution_count": 3,
   "id": "9db5e350",
   "metadata": {},
   "outputs": [],
   "source": [
    "f = h5.File(species+\"_matrix_v\"+version+\".h5\", \"r\")\n",
    "gse_scprob = np.array([\n",
    "    f[\"meta\"][\"samples\"][\"series_id\"], \n",
    "    f[\"meta\"][\"samples\"][\"geo_accession\"],\n",
    "    f[\"meta\"][\"samples\"][\"singlecellprobability\"],\n",
    "    f[\"meta\"][\"samples\"][\"title\"]\n",
    "]).T\n",
    "f.close()"
   ]
  },
  {
   "cell_type": "code",
   "execution_count": 4,
   "id": "003bf0b5",
   "metadata": {},
   "outputs": [
    {
     "name": "stdout",
     "output_type": "stream",
     "text": [
      "(405640, 4) \n",
      " [['GSE54390' 'GSM1314260' 0.1859949380159378 'TRACK 43-75 kidney 1']\n",
      " ['GSE75330' 'GSM2164318' 0.9992627501487732 'C1-1772117-029-A02']\n",
      " ['GSE75330' 'GSM2161048' 0.9992627501487732 'C1-1772072-242-F03']\n",
      " ['GSE64027' 'GSM1563082' 0.18679091334342957 '20NNK_LPS_Sil_I3C9']\n",
      " ['GSE36025\\tGSE49417\\tGSE49847' 'GSM1000563' 0.16356061398983002\n",
      "  'CSHL_RnaSeq_Cortex_adult-8wks (superseded by GSE90205)']\n",
      " ['GSE87069' 'GSM2320580' 0.9992627501487732 'F125_RNA-seq']\n",
      " ['GSE75330' 'GSM2164283' 0.9992627501487732 'C1-1772117-028-A05']\n",
      " ['GSE60361' 'GSM1474588' 0.9992627501487732 'SingleCellNo338']\n",
      " ['GSE76381' 'GSM2273393' 0.9992627501487732 '1772075301_G03']\n",
      " ['GSE75330' 'GSM2162146' 0.9992627501487732 'C1-1772096-087-D08']]\n"
     ]
    }
   ],
   "source": [
    "gse_scprob[:, 0:2] = gse_scprob[:, 0:2].astype(str)\n",
    "gse_scprob[:, 3] = pd.Series(gse_scprob[:, 3]).str.decode(\"utf-8\")\n",
    "print(gse_scprob.shape, \"\\n\", gse_scprob[:10])"
   ]
  },
  {
   "cell_type": "code",
   "execution_count": 5,
   "id": "ed2092b8",
   "metadata": {},
   "outputs": [],
   "source": [
    "single_cell_samp = np.argwhere(gse_scprob[:, 2] > single_cell_prob_thresh)       #identify samples w/single cell prob > thresh\n",
    "single_cell_study = np.unique(gse_scprob[single_cell_samp][:,:,0])               #identify studies corresponding to sc samples\n",
    "bulk_study_bool = np.isin(gse_scprob[:, 0], single_cell_study, invert = True)    #boolean mask s.t. {T = bulk, F = sc}\n",
    "bulk_study_idx = np.arange(0, len(bulk_study_bool))[bulk_study_bool]             #index corresponding to bulk RNA-seq (T)\n",
    "bulk_study_meta = np.append(gse_scprob[bulk_study_bool],                         #filtering out scRNA-seq via boolean indexing\n",
    "                            bulk_study_idx[:, np.newaxis], axis = 1)             #and appending corresponding h5 index"
   ]
  },
  {
   "cell_type": "code",
   "execution_count": 6,
   "id": "65b4507c",
   "metadata": {},
   "outputs": [],
   "source": [
    "pd.DataFrame(bulk_study_meta).to_csv(\n",
    "    species+\"_bulk_study_meta.csv\", \n",
    "    header=[\"series_id\", \"geo_accession\", \"singlecellprobability\", \"sample_title\", \"h5_idx\"])"
   ]
  },
  {
   "cell_type": "code",
   "execution_count": 7,
   "id": "75266adf",
   "metadata": {},
   "outputs": [
    {
     "data": {
      "text/plain": [
       "((130012, 5), 8971)"
      ]
     },
     "execution_count": 7,
     "metadata": {},
     "output_type": "execute_result"
    }
   ],
   "source": [
    "bulk_study_meta.shape, len(np.unique(bulk_study_meta[:, 0]))"
   ]
  }
 ],
 "metadata": {
  "kernelspec": {
   "display_name": "Python 3",
   "language": "python",
   "name": "python3"
  },
  "language_info": {
   "codemirror_mode": {
    "name": "ipython",
    "version": 3
   },
   "file_extension": ".py",
   "mimetype": "text/x-python",
   "name": "python",
   "nbconvert_exporter": "python",
   "pygments_lexer": "ipython3",
   "version": "3.8.10"
  }
 },
 "nbformat": 4,
 "nbformat_minor": 5
}
